{
  "cells": [
    {
      "cell_type": "markdown",
      "id": "0ddff08e",
      "metadata": {
        "id": "0ddff08e"
      },
      "source": [
        "## Question 1 : What is Simple Linear Regression (SLR)? Explain its purpose."
      ]
    },
    {
      "cell_type": "markdown",
      "id": "9dc647d1",
      "metadata": {
        "id": "9dc647d1"
      },
      "source": [
        "\n",
        "\n",
        "Simple Linear Regression (SLR) models the relationship between one independent variable (predictor) and one dependent variable (response) by fitting a straight line to the data. It helps in predicting the dependent variable from the independent variable and understanding their relationship.\n",
        "\n",
        "**Equation:** y = β₀ + β₁x + ε\n"
      ]
    },
    {
      "cell_type": "markdown",
      "id": "dd1c1690",
      "metadata": {
        "id": "dd1c1690"
      },
      "source": [
        "## Question 2: What are the key assumptions of Simple Linear Regression?"
      ]
    },
    {
      "cell_type": "markdown",
      "id": "130172b8",
      "metadata": {
        "id": "130172b8"
      },
      "source": [
        "\n",
        "\n",
        "1. Linearity: The relationship between X and Y is linear.\n",
        "2. Independence: Observations are independent.\n",
        "3. Homoscedasticity: Errors have constant variance.\n",
        "4. Normality: Errors are normally distributed.\n",
        "5. No multicollinearity (only one predictor in SLR)."
      ]
    },
    {
      "cell_type": "markdown",
      "id": "b5848354",
      "metadata": {
        "id": "b5848354"
      },
      "source": [
        "## Question 3: Write the mathematical equation for a simple linear regression model and explain each term."
      ]
    },
    {
      "cell_type": "markdown",
      "id": "08b34d5b",
      "metadata": {
        "id": "08b34d5b"
      },
      "source": [
        "\n",
        "\n",
        "Equation:  \n",
        "Yᵢ = β₀ + β₁Xᵢ + εᵢ  \n",
        "\n",
        "Where:\n",
        "- Yᵢ: Dependent variable\n",
        "- Xᵢ: Independent variable\n",
        "- β₀: Intercept\n",
        "- β₁: Slope\n",
        "- εᵢ: Error term"
      ]
    },
    {
      "cell_type": "markdown",
      "id": "e3853d25",
      "metadata": {
        "id": "e3853d25"
      },
      "source": [
        "## Question 4: Provide a real-world example where simple linear regression can be applied."
      ]
    },
    {
      "cell_type": "markdown",
      "id": "c26147ef",
      "metadata": {
        "id": "c26147ef"
      },
      "source": [
        "\n",
        "\n",
        "Example: Predicting house price (`Y`) based on house size (`X`).\n",
        "\n",
        "Other examples include:\n",
        "- Experience → Salary\n",
        "- Advertising Spend → Sales\n",
        "- Temperature → Ice Cream Sales"
      ]
    },
    {
      "cell_type": "markdown",
      "id": "fe20c4cd",
      "metadata": {
        "id": "fe20c4cd"
      },
      "source": [
        "## Question 5: What is the method of least squares in linear regression?"
      ]
    },
    {
      "cell_type": "markdown",
      "id": "b50f270b",
      "metadata": {
        "id": "b50f270b"
      },
      "source": [
        "\n",
        "\n",
        "It minimizes the sum of squared residuals between actual and predicted values.\n",
        "\n",
        "Formula:\n",
        "S(b₀, b₁) = Σ(Yᵢ - b₀ - b₁Xᵢ)²\n",
        "\n",
        "Solutions:\n",
        "β₁ = Σ(Xᵢ−X̄)(Yᵢ−Ȳ) / Σ(Xᵢ−X̄)²,  β₀ = Ȳ − β₁X̄"
      ]
    },
    {
      "cell_type": "markdown",
      "id": "deeabe27",
      "metadata": {
        "id": "deeabe27"
      },
      "source": [
        "## Question 6: What is Logistic Regression? How does it differ from Linear Regression?"
      ]
    },
    {
      "cell_type": "markdown",
      "id": "214db0e2",
      "metadata": {
        "id": "214db0e2"
      },
      "source": [
        "\n",
        "\n",
        "**Logistic Regression** predicts categorical outcomes (e.g., Yes/No) using a sigmoid function.\n",
        "\n",
        "**Equation:** P(Y=1|X) = 1 / (1 + e^−(β₀ + β₁X))\n",
        "\n",
        "**Differences:**\n",
        "- Logistic → Classification, Linear → Regression\n",
        "- Logistic uses logit link; Linear uses identity link\n",
        "- Logistic outputs probabilities (0–1)"
      ]
    },
    {
      "cell_type": "markdown",
      "id": "1408f7af",
      "metadata": {
        "id": "1408f7af"
      },
      "source": [
        "## Question 7: Name and briefly describe three common evaluation metrics for regression models."
      ]
    },
    {
      "cell_type": "markdown",
      "id": "0756ff15",
      "metadata": {
        "id": "0756ff15"
      },
      "source": [
        "\n",
        "\n",
        "1. **MAE:** Mean Absolute Error = average absolute differences.\n",
        "2. **MSE:** Mean Squared Error = average squared differences.\n",
        "3. **RMSE:** Root Mean Squared Error = sqrt(MSE)."
      ]
    },
    {
      "cell_type": "markdown",
      "id": "23f01a07",
      "metadata": {
        "id": "23f01a07"
      },
      "source": [
        "## Question 8: What is the purpose of the R-squared metric in regression analysis?"
      ]
    },
    {
      "cell_type": "markdown",
      "id": "d2f7e6a4",
      "metadata": {
        "id": "d2f7e6a4"
      },
      "source": [
        "\n",
        "\n",
        "R² measures how much variance in the dependent variable is explained by the model.\n",
        "\n",
        "Formula:\n",
        "R² = 1 − (Σ(Yᵢ−Ŷᵢ)² / Σ(Yᵢ−Ȳ)²)\n",
        "\n",
        "Interpretation:\n",
        "- 0 → No fit\n",
        "- 1 → Perfect fit"
      ]
    },
    {
      "cell_type": "markdown",
      "id": "edd14ced",
      "metadata": {
        "id": "edd14ced"
      },
      "source": [
        "## Question 9: Write Python code to fit a simple linear regression model using scikit-learn and print the slope and intercept."
      ]
    },
    {
      "cell_type": "code",
      "execution_count": 2,
      "id": "22638b63",
      "metadata": {
        "colab": {
          "base_uri": "https://localhost:8080/"
        },
        "id": "22638b63",
        "outputId": "8801a3fc-4e82-4ad8-c73b-f5db979951f7"
      },
      "outputs": [
        {
          "output_type": "stream",
          "name": "stdout",
          "text": [
            "Estimated slope: 4.085394271782846\n",
            "Estimated intercept: -0.8132357479463357\n",
            "R² Score: 0.9601564783738629\n"
          ]
        }
      ],
      "source": [
        "import numpy as np\n",
        "from sklearn.linear_model import LinearRegression\n",
        "\n",
        "# Generate synthetic data\n",
        "rng = np.random.RandomState(42)\n",
        "X = 2.5 * rng.randn(100, 1) + 1.5\n",
        "true_slope, true_intercept = 4.2, -1.0\n",
        "noise = rng.randn(100, 1) * 2.0\n",
        "Y = true_intercept + true_slope * X + noise\n",
        "\n",
        "# Fit model\n",
        "model = LinearRegression()\n",
        "model.fit(X, Y)\n",
        "\n",
        "print('Estimated slope:', model.coef_[0][0])\n",
        "print('Estimated intercept:', model.intercept_[0])\n",
        "print('R² Score:', model.score(X, Y))"
      ]
    },
    {
      "cell_type": "markdown",
      "id": "680aa830",
      "metadata": {
        "id": "680aa830"
      },
      "source": [
        "## Question 10: How do you interpret the coefficients in a simple linear regression model?"
      ]
    },
    {
      "cell_type": "markdown",
      "id": "272fcf19",
      "metadata": {
        "id": "272fcf19"
      },
      "source": [
        "\n",
        "\n",
        "- **Intercept (β₀):** Expected Y when X = 0.\n",
        "- **Slope (β₁):** Change in Y for each unit increase in X.\n",
        "\n",
        "Interpret coefficients as relationships, not causation."
      ]
    }
  ],
  "metadata": {
    "colab": {
      "provenance": []
    },
    "language_info": {
      "name": "python"
    },
    "kernelspec": {
      "name": "python3",
      "display_name": "Python 3"
    }
  },
  "nbformat": 4,
  "nbformat_minor": 5
}