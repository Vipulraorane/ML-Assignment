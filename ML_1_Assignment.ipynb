{
  "nbformat": 4,
  "nbformat_minor": 0,
  "metadata": {
    "colab": {
      "provenance": []
    },
    "kernelspec": {
      "name": "python3",
      "display_name": "Python 3"
    },
    "language_info": {
      "name": "python"
    }
  },
  "cells": [
    {
      "cell_type": "markdown",
      "source": [
        "# **Differences between AI, ML, Deep Learning (DL), and Data Science (DS)**\n",
        "\n",
        "---\n",
        "\n",
        "## 1. Artificial Intelligence (AI)\n",
        "- **Definition:** Broad field of computer science focused on creating machines that can perform tasks requiring human-like intelligence.\n",
        "- **Goal:** Enable machines to think, reason, and make decisions.\n",
        "- **Examples:**\n",
        "  - Self-driving cars\n",
        "  - Chatbots / Virtual assistants (Siri, Alexa)\n",
        "\n",
        "---\n",
        "\n",
        "## 2. Machine Learning (ML)\n",
        "- **Definition:** Subset of AI that enables systems to learn patterns from data without being explicitly programmed.\n",
        "- **Goal:** Learn from experience (data) and make predictions or decisions.\n",
        "- **Examples:**\n",
        "  - Predicting house prices\n",
        "  - Spam email detection\n",
        "  - Netflix / YouTube recommendations\n",
        "\n",
        "---\n",
        "\n",
        "## 3. Deep Learning (DL)\n",
        "- **Definition:** Subset of ML that uses Artificial Neural Networks with multiple hidden layers (\"deep\" networks).\n",
        "- **Goal:** Handle large amounts of unstructured data (images, videos, audio, text) with high accuracy.\n",
        "- **Examples:**\n",
        "  - Image recognition (Facebook auto-tagging)\n",
        "  - Speech recognition (Google Translate voice)\n",
        "  - Object detection in self-driving cars\n",
        "\n",
        "---\n",
        "\n",
        "## 4. Data Science (DS)\n",
        "- **Definition:** Multidisciplinary field combining statistics, programming, data analysis, and ML/AI to extract insights from data.\n",
        "- **Goal:** Transform raw data into actionable insights for decision making.\n",
        "- **Examples:**\n",
        "  - Fraud detection in banking\n",
        "  - Business dashboards & trend analysis\n",
        "  - COVID-19 spread analysis"
      ],
      "metadata": {
        "id": "yXRw0QujABa3"
      }
    },
    {
      "cell_type": "markdown",
      "source": [
        "# **Types of Machine Learning**\n",
        "\n",
        "Machine Learning (ML) is mainly categorized into **three types**, based on the kind of data available and the learning approach used.\n",
        "\n",
        "---\n",
        "\n",
        "## 1. Supervised Learning\n",
        "- **Definition:**  \n",
        "  The model is trained on a labeled dataset (input + correct output). The algorithm learns the mapping between input and output.\n",
        "- **Goal:**  \n",
        "  Predict outcomes for new, unseen data.\n",
        "- **Real-world Example:**  \n",
        "  **Email Spam Detection**  \n",
        "  - Input: Features like subject line, sender address, keywords.  \n",
        "  - Output: \"Spam\" or \"Not Spam\".  \n",
        "  - Algorithm learns from labeled emails and classifies future emails.\n",
        "\n",
        "---\n",
        "\n",
        "## 2. Unsupervised Learning\n",
        "- **Definition:**  \n",
        "  The model is trained on unlabeled data (only inputs). The algorithm tries to find patterns, clusters, or structure in the data without knowing the correct output.\n",
        "- **Goal:**  \n",
        "  Discover hidden structures in data.\n",
        "- **Real-world Example:**  \n",
        "  **Customer Segmentation in Marketing**  \n",
        "  - Input: Customer purchase history, browsing behavior.  \n",
        "  - No labeled output.  \n",
        "  - Algorithm (like K-Means clustering) groups customers into segments (e.g., frequent buyers, seasonal buyers).\n",
        "\n",
        "---\n",
        "\n",
        "## 3. Reinforcement Learning\n",
        "- **Definition:**  \n",
        "  The model (agent) learns by interacting with an environment. It receives **rewards or penalties** for actions taken and aims to maximize cumulative reward.\n",
        "- **Goal:**  \n",
        "  Learn an optimal strategy (policy) for decision-making.\n",
        "- **Real-world Example:**  \n",
        "  **Self-Driving Cars**  \n",
        "  - Agent: The car.  \n",
        "  - Environment: The road and traffic.  \n",
        "  - Actions: Accelerate, brake, turn.  \n",
        "  - Reward: Positive reward for safe driving, negative reward for hitting obstacles.  \n",
        "  - Over time, the car learns how to drive safely."
      ],
      "metadata": {
        "id": "CnZpEGpEAetc"
      }
    },
    {
      "cell_type": "markdown",
      "source": [
        "# **Overfitting, Underfitting, and Bias-Variance Tradeoff in Machine Learning**\n",
        "\n",
        "---\n",
        "\n",
        "## 1. Overfitting\n",
        "- **Definition:**  \n",
        "  Overfitting occurs when a model learns the **training data too well**, capturing noise and irrelevant details.  \n",
        "  As a result, the model performs well on training data but **poorly on unseen test data**.\n",
        "- **Cause:**  \n",
        "  Model is too complex (too many parameters, deep decision trees, etc.).\n",
        "- **Real-world Example:**  \n",
        "  A student memorizes answers to practice questions but cannot answer new questions in the exam.\n",
        "\n",
        "---\n",
        "\n",
        "## 2. Underfitting\n",
        "- **Definition:**  \n",
        "  Underfitting occurs when a model is **too simple** to capture the underlying patterns in the data.  \n",
        "  It performs poorly on both training and test data.\n",
        "- **Cause:**  \n",
        "  Model is not complex enough (too few parameters, linear model for non-linear problem, etc.).\n",
        "- **Real-world Example:**  \n",
        "  A student only skims the textbook and cannot answer either practice or exam questions properly.\n",
        "\n",
        "---\n",
        "\n",
        "## 3. Bias-Variance Tradeoff\n",
        "- **Definition:**  \n",
        "  - **Bias:** Error due to overly simplistic assumptions in the model (leads to underfitting).  \n",
        "  - **Variance:** Error due to too much sensitivity to training data (leads to overfitting).  \n",
        "  The **Bias-Variance Tradeoff** is about finding the right balance between bias and variance to achieve **good generalization**.\n",
        "- **Goal:**  \n",
        "  Build a model that is **complex enough** to capture patterns but **not so complex** that it memorizes noise.\n",
        "\n",
        "---"
      ],
      "metadata": {
        "id": "UKhpUwxNAnQv"
      }
    },
    {
      "cell_type": "markdown",
      "source": [
        "## **1. What are Outliers?**\n",
        "- **Definition:**  \n",
        "  Outliers are data points that deviate **significantly** from the rest of the dataset.  \n",
        "  They can be much higher or lower than most values and may indicate **errors, rare events, or special conditions**.\n",
        "- **Why Important?**  \n",
        "  Outliers can **skew analysis, affect statistical measures (mean, variance), and reduce model accuracy**.\n",
        "\n",
        "- **Example:**  \n",
        "  In a dataset of employee salaries, if most salaries are between $30k–$80k and one record shows $1 million, that $1M is an **outlier**.\n",
        "\n",
        "---\n",
        "\n",
        "## **2. Common Techniques for Handling Outliers**\n",
        "\n",
        "### a) Removal (Deleting Outliers)\n",
        "- Remove records that lie beyond a threshold (e.g., 3 standard deviations from the mean).\n",
        "- Useful when outliers are due to **data entry errors**.\n",
        "- **Example:** If a student's age is recorded as 250 years, it can be removed.\n",
        "\n",
        "---\n",
        "\n",
        "### b) Transformation (Scaling / Log Transform)\n",
        "- Apply transformations (e.g., **log, square root**) to reduce the effect of extreme values.\n",
        "- Makes data distribution less skewed.\n",
        "- **Example:** Converting income values using log scale reduces the impact of billionaires.\n",
        "\n",
        "---\n",
        "\n",
        "### c) Capping / Winsorization\n",
        "- Replace extreme values with a maximum or minimum cutoff (percentiles).\n",
        "- Example: Cap all values above the 95th percentile and below the 5th percentile.\n",
        "- Helps to keep the dataset size intact while reducing the outlier impact.\n"
      ],
      "metadata": {
        "id": "7CLvFVMjA9Qf"
      }
    },
    {
      "cell_type": "markdown",
      "source": [
        "# **Handling Missing Values in a Dataset**\n",
        "\n",
        "---\n",
        "\n",
        "## 1. What are Missing Values?\n",
        "- **Definition:**  \n",
        "  Missing values occur when no data is stored for a variable in an observation.  \n",
        "  Example: In a dataset of student records, some entries may have no age or no gender filled.\n",
        "\n",
        "- **Why Important?**  \n",
        "  Missing values can:\n",
        "  - Reduce model accuracy\n",
        "  - Bias the analysis\n",
        "  - Prevent certain algorithms from running\n",
        "\n",
        "---\n",
        "\n",
        "## 2. Process of Handling Missing Values\n",
        "1. **Identify Missing Data**  \n",
        "   - Use methods like `.isnull()` or `.info()` in Python to detect them.\n",
        "2. **Understand the Cause**  \n",
        "   - Missing completely at random (MCAR), missing at random (MAR), or missing not at random (MNAR).\n",
        "3. **Choose a Strategy**  \n",
        "   - Remove data  \n",
        "   - Impute (fill) values with statistical or model-based techniques\n",
        "\n",
        "---\n",
        "\n",
        "## 3. Imputation Techniques\n",
        "\n",
        "### a) Numerical Data (e.g., Age, Salary)\n",
        "- **Mean/Median Imputation**  \n",
        "  Replace missing values with the mean or median of the column.  \n",
        "  - Example: If a dataset has missing ages, replace them with the **median age** of all students.  \n",
        "  - Useful when data is **not heavily skewed**.\n",
        "\n",
        "---\n",
        "\n",
        "### b) Categorical Data (e.g., Gender, City)\n",
        "- **Mode Imputation**  \n",
        "  Replace missing values with the most frequent category (mode).  \n",
        "  - Example: If \"City\" column is missing values, fill them with the most common city in the dataset.  \n",
        "  - Useful when data has **dominant categories**."
      ],
      "metadata": {
        "id": "jVJAgGbeBLad"
      }
    },
    {
      "cell_type": "markdown",
      "source": [
        "# **Write a Python program that:**\n",
        "-  Creates a synthetic imbalanced dataset with make_classification() from\n",
        "sklearn.datasets.\n",
        "-  Prints the class distribution.\n"
      ],
      "metadata": {
        "id": "ca7fmFlkBd2B"
      }
    },
    {
      "cell_type": "code",
      "source": [
        "# Import necessary libraries\n",
        "from sklearn.datasets import make_classification\n",
        "import numpy as np\n",
        "from collections import Counter\n",
        "\n",
        "# Step 1: Create synthetic imbalanced dataset\n",
        "X, y = make_classification(n_samples=1000,     # total samples\n",
        "                           n_features=10,      # number of features\n",
        "                           n_informative=5,    # number of useful features\n",
        "                           n_redundant=2,      # number of redundant features\n",
        "                           n_classes=2,        # binary classification\n",
        "                           weights=[0.9, 0.1], # imbalance (90% vs 10%)\n",
        "                           random_state=42)\n",
        "\n",
        "# Step 2: Print dataset shape\n",
        "print(\"Dataset shape (X):\", X.shape)\n",
        "print(\"Target shape (y):\", y.shape)\n",
        "\n",
        "# Step 3: Print class distribution\n",
        "class_distribution = Counter(y)\n",
        "print(\"Class distribution:\", class_distribution)\n"
      ],
      "metadata": {
        "colab": {
          "base_uri": "https://localhost:8080/"
        },
        "id": "AxLYmb30BwCW",
        "outputId": "b719c90e-a402-4bbc-a773-f24415ef2f04"
      },
      "execution_count": 1,
      "outputs": [
        {
          "output_type": "stream",
          "name": "stdout",
          "text": [
            "Dataset shape (X): (1000, 10)\n",
            "Target shape (y): (1000,)\n",
            "Class distribution: Counter({np.int64(0): 896, np.int64(1): 104})\n"
          ]
        }
      ]
    },
    {
      "cell_type": "markdown",
      "source": [
        "# **8: Write a Python script to:**\n",
        "- Generate 1000 samples from a normal distribution.\n",
        "- Introduce 50 random missing values.\n",
        "- Fill missing values with the column mean.\n",
        "- Plot a histogram before and after imputation"
      ],
      "metadata": {
        "id": "-siDb3r_B2FZ"
      }
    },
    {
      "cell_type": "code",
      "source": [
        "import numpy as np\n",
        "import pandas as pd\n",
        "import matplotlib.pyplot as plt\n",
        "\n",
        "# Step 1: Generate 1000 samples from a normal distribution\n",
        "np.random.seed(42)  # for reproducibility\n",
        "data = np.random.normal(loc=50, scale=10, size=1000)  # mean=50, std=10\n",
        "\n",
        "# Step 2: Introduce 50 random missing values\n",
        "missing_indices = np.random.choice(1000, 50, replace=False)\n",
        "data[missing_indices] = np.nan\n",
        "\n",
        "# Convert to DataFrame for easier handling\n",
        "df = pd.DataFrame({\"Value\": data})\n",
        "\n",
        "# Step 3: Plot histogram before imputation\n",
        "plt.hist(df[\"Value\"].dropna(), bins=30, edgecolor='black')\n",
        "plt.title(\"Histogram Before Imputation\")\n",
        "plt.xlabel(\"Value\")\n",
        "plt.ylabel(\"Frequency\")\n",
        "plt.show()\n",
        "\n",
        "# Step 4: Fill missing values with column mean\n",
        "mean_value = df[\"Value\"].mean()\n",
        "df[\"Value\"].fillna(mean_value, inplace=True)\n",
        "\n",
        "# Step 5: Plot histogram after imputation\n",
        "plt.hist(df[\"Value\"], bins=30, edgecolor='black')\n",
        "plt.title(\"Histogram After Imputation (Mean Imputation)\")\n",
        "plt.xlabel(\"Value\")\n",
        "plt.ylabel(\"Frequency\")\n",
        "plt.show()\n"
      ],
      "metadata": {
        "colab": {
          "base_uri": "https://localhost:8080/",
          "height": 1000
        },
        "id": "pK4BwSXqCJrV",
        "outputId": "9e7b0fe9-40b2-4052-af43-5df3746023a3"
      },
      "execution_count": 2,
      "outputs": [
        {
          "output_type": "display_data",
          "data": {
            "text/plain": [
              "<Figure size 640x480 with 1 Axes>"
            ],
            "image/png": "[encoded data removed]"
          },
          "metadata": {}
        },
        {
          "output_type": "stream",
          "name": "stderr",
          "text": [
            "/tmp/ipython-input-2692624349.py:25: FutureWarning: A value is trying to be set on a copy of a DataFrame or Series through chained assignment using an inplace method.\n",
            "The behavior will change in pandas 3.0. This inplace method will never work because the intermediate object on which we are setting values always behaves as a copy.\n",
            "\n",
            "For example, when doing 'df[col].method(value, inplace=True)', try using 'df.method({col: value}, inplace=True)' or df[col] = df[col].method(value) instead, to perform the operation inplace on the original object.\n",
            "\n",
            "\n",
            "  df[\"Value\"].fillna(mean_value, inplace=True)\n"
          ]
        },
        {
          "output_type": "display_data",
          "data": {
            "text/plain": [
              "<Figure size 640x480 with 1 Axes>"
            ],
            "image/png": "[encoded data removed]"
          },
          "metadata": {}
        }
      ]
    },
    {
      "cell_type": "markdown",
      "source": [
        "#**Implement Min-Max scaling on the following list of numbers [2, 5, 10, 15,20] using sklearn.preprocessing.MinMaxScaler. Print the scaled array.**"
      ],
      "metadata": {
        "id": "i69euAlnCMSc"
      }
    },
    {
      "cell_type": "code",
      "source": [
        "from sklearn.preprocessing import MinMaxScaler\n",
        "import numpy as np\n",
        "\n",
        "# Original data\n",
        "data = np.array([2, 5, 10, 15, 20]).reshape(-1, 1)  # reshape to 2D array for sklearn\n",
        "\n",
        "# Apply Min-Max Scaling\n",
        "scaler = MinMaxScaler()\n",
        "scaled_data = scaler.fit_transform(data)\n",
        "\n",
        "# Print scaled array\n",
        "print(\"Original Data:\\n\", data.flatten())\n",
        "print(\"Scaled Data (Min-Max):\\n\", scaled_data.flatten())\n"
      ],
      "metadata": {
        "colab": {
          "base_uri": "https://localhost:8080/"
        },
        "id": "Pl_Hw5F5Cbhf",
        "outputId": "babfdd9e-c695-40f9-ecd4-d441265fc332"
      },
      "execution_count": 3,
      "outputs": [
        {
          "output_type": "stream",
          "name": "stdout",
          "text": [
            "Original Data:\n",
            " [ 2  5 10 15 20]\n",
            "Scaled Data (Min-Max):\n",
            " [0.         0.16666667 0.44444444 0.72222222 1.        ]\n"
          ]
        }
      ]
    },
    {
      "cell_type": "markdown",
      "source": [
        "# **You are working as a data scientist for a retail company. You receive a customer**\n",
        "\n",
        "transaction dataset that contains:\n",
        "- Missing ages,\n",
        "- Outliers in transaction amount,\n",
        "- A highly imbalanced target (fraud vs. non-fraud),\n",
        "- Categorical variables like payment method."
      ],
      "metadata": {
        "id": "xGZWRTWLClqH"
      }
    },
    {
      "cell_type": "markdown",
      "source": [
        "\n",
        "\n",
        "As a data scientist for a retail company, the dataset presents the following challenges:\n",
        "\n",
        "---\n",
        "\n",
        "## 1. Missing Ages\n",
        "- **Problem:** Some customer ages are missing.\n",
        "- **Handling:**\n",
        "  - For **numerical data** like age, we can use **Mean/Median imputation**.  \n",
        "  - Median is often better if the age distribution is skewed.  \n",
        "  - Advanced: Use **predictive imputation** (e.g., KNN Imputer).\n",
        "\n",
        "---\n",
        "\n",
        "## 2. Outliers in Transaction Amount\n",
        "- **Problem:** Transaction amounts may have extreme values (e.g., data entry errors, very high transactions).\n",
        "- **Handling:**\n",
        "  - **Detection:** Boxplot, Z-score, or IQR method.  \n",
        "  - **Treatment Options:**\n",
        "    - Remove extreme values (if they are errors).  \n",
        "    - Apply transformations (e.g., log transform).  \n",
        "    - Cap values at a threshold (Winsorization).  \n",
        "\n",
        "---\n",
        "\n",
        "## 3. Imbalanced Target (Fraud vs. Non-Fraud)\n",
        "- **Problem:** Fraud cases are much fewer than non-fraud, leading to biased models.\n",
        "- **Handling:**\n",
        "  - **Resampling Techniques:**\n",
        "    - Oversample minority class (e.g., **SMOTE**).  \n",
        "    - Undersample majority class.  \n",
        "  - **Algorithm-level solutions:**\n",
        "    - Use models that handle imbalance (e.g., XGBoost, class weights in Logistic Regression).  \n",
        "  - **Evaluation Metrics:**\n",
        "    - Use **Precision, Recall, F1-score, ROC-AUC** instead of just accuracy.\n",
        "\n",
        "---\n",
        "\n",
        "## 4. Categorical Variables (e.g., Payment Method)\n",
        "- **Problem:** Models require numeric inputs.\n",
        "- **Handling:**\n",
        "  - **One-Hot Encoding** for nominal variables (Credit Card, Cash, UPI, etc.).  \n",
        "  - **Label Encoding** for ordinal variables (e.g., Low/Medium/High).  \n",
        "  - Advanced: **Target Encoding** for high-cardinality features.\n",
        "\n",
        "---\n",
        "\n"
      ],
      "metadata": {
        "id": "3CoW219wC6WS"
      }
    }
  ]
}